{
 "cells": [
  {
   "cell_type": "markdown",
   "id": "difficult-thirty",
   "metadata": {},
   "source": [
    "# Analysis of Fitting"
   ]
  },
  {
   "cell_type": "code",
   "execution_count": 5,
   "id": "genuine-steering",
   "metadata": {},
   "outputs": [],
   "source": [
    "import tellurium as te\n",
    "from SBstoat.modelFitter import ModelFitter\n",
    "import matplotlib\n",
    "matplotlib.use('TkAgg')\n",
    "%matplotlib inline"
   ]
  },
  {
   "cell_type": "code",
   "execution_count": 2,
   "id": "loose-girlfriend",
   "metadata": {},
   "outputs": [
    {
     "data": {
      "text/plain": [
       "'1.13'"
      ]
     },
     "execution_count": 2,
     "metadata": {},
     "output_type": "execute_result"
    }
   ],
   "source": [
    "import SBstoat\n",
    "SBstoat.__version__"
   ]
  },
  {
   "cell_type": "code",
   "execution_count": 3,
   "id": "serial-grove",
   "metadata": {},
   "outputs": [
    {
     "name": "stdout",
     "output_type": "stream",
     "text": [
      "[[Variables]]\n",
      "    V_0:  10.017436467010777\n",
      "    K_0:  5999.656259493818\n",
      "    n_0:  1.6855341212932522\n",
      "[[Fit Statistics]]\n",
      "    # fitting method   = differential_evolution\n",
      "    # function evals   = 101\n",
      "    # data points      = 4\n",
      "    # variables        = 3\n",
      "    chi-square         = 91.6697346\n",
      "    reduced chi-square = 91.6697346\n",
      "    Akaike info crit   = 18.5275917\n",
      "    Bayesian info crit = 16.6864747\n",
      "##  Warning: uncertainties could not be estimated:\n",
      "    this fitting method does not natively calculate uncertainties\n",
      "    and numdifftools is not installed for lmfit to do this. Use\n",
      "    `pip install numdifftools` for lmfit to estimate uncertainties\n",
      "    with this fitting method.\n"
     ]
    }
   ],
   "source": [
    "model = te.loada('''\n",
    "\n",
    "function HillTime(V, K, n, t)\n",
    "    ((V * n * (K^n) * (t^(n-1))) / (((K^n) + (t^n))^2))\n",
    "end\n",
    "\n",
    "model modular_EGFR_current_128()\n",
    "\n",
    "// Reactions\n",
    "\n",
    "SproutyFunc: -> Spry2; HillTime(V_0, K_0, n_0, t)\n",
    "\n",
    "\n",
    "// Species IVs\n",
    "Spry2 = 0;\n",
    "\n",
    "// Parameter values\n",
    "V_0 = 19.9059673;\n",
    "K_0 = 10153.3568;\n",
    "n_0 = 2.52290790;\n",
    "t := time\n",
    "\n",
    "end\n",
    "''')\n",
    "\n",
    "# sim = model.simulate(0, 7200, 7201)\n",
    "# model.plot()\n",
    "# quit()\n",
    "\n",
    "\n",
    "\n",
    "fitter = ModelFitter(model, \"spry2_2a.txt\", [\"V_0\", \"K_0\", \"n_0\"],\n",
    "                     fitterMethods='differential_evolution', parameterDct={\n",
    "            \"V_0\": (10, 20, 40), \"K_0\": (1800, 6000, 20000), \"n_0\": (1, 2, 12)})\n",
    "fitter.fitModel()\n",
    "print(fitter.reportFit())"
   ]
  },
  {
   "cell_type": "code",
   "execution_count": 6,
   "id": "arranged-matthew",
   "metadata": {},
   "outputs": [
    {
     "data": {
      "image/png": "[encoded data removed]",
      "text/plain": [
       "<Figure size 576x432 with 1 Axes>"
      ]
     },
     "metadata": {
      "needs_background": "light"
     },
     "output_type": "display_data"
    }
   ],
   "source": [
    "fitter.plotFitAll()"
   ]
  }
 ],
 "metadata": {
  "kernelspec": {
   "display_name": "Python 3",
   "language": "python",
   "name": "python3"
  },
  "language_info": {
   "codemirror_mode": {
    "name": "ipython",
    "version": 3
   },
   "file_extension": ".py",
   "mimetype": "text/x-python",
   "name": "python",
   "nbconvert_exporter": "python",
   "pygments_lexer": "ipython3",
   "version": "3.6.9"
  }
 },
 "nbformat": 4,
 "nbformat_minor": 5
}
