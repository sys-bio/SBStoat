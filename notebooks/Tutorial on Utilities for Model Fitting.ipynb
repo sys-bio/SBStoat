{
 "cells": [
  {
   "cell_type": "markdown",
   "metadata": {},
   "source": [
    "# SBstoat Tutorial\n",
    "\n",
    "This tutorial discusses helper codes you can use for model fitting with tellurium. The tutorial gives practical examples of to use these codes in a model fitting workflow.\n",
    "\n",
    "For those who want to get right to the quick start section, the follwing information can be scipped over and is only required for advanced users\n",
    "\n",
    "The utilities are in 3 python modules (files):\n",
    "\n",
    "- named_timeseries defines a NamedTimeseries type that allows you to manipulate tabular data that has a time axis. A NamedTimeseries can be initialized from a comma separated variable (CSV) file.\n",
    "- model_fitter defines a ModelFitter type that encapsulates the basics of fitting parameters to a NamedTimeseries. You can simulate the fitted model, and the result is a NamedTimeseries.\n",
    "- timeseries_plotter plots one or two NamedTimeseries. You can have all variables on a single subplot or have separate subplots for each variable.\n",
    "\n",
    "You should open this notebook from ``SBstoat``, then open the folder ``notebooks`` to find this notebook."
   ]
  },
  {
   "cell_type": "markdown",
   "metadata": {},
   "source": [
    "## Quick Start"
   ]
  },
  {
   "cell_type": "markdown",
   "metadata": {},
   "source": [
    "We need to first import the SBstoat python package. You can either use the 'from' symtax shown below or the simpler 'import' syntax, eg import SBstoat\n",
    "The simpler syntax might be more convenient if you want to use the other functions in the SBstoat package because you can use the console help system\n",
    "to quickly identifiy the different packages in SBstoat. Just remember,  when using the simpler syntax use the prefix 'modelFitter.ModeFitter'\n",
    "when creating the fitter object. Note that 'modelFitter' is the package name and 'ModelFitter' with a capital M, is the function that will create the fitter object.\n"
   ]
  },
  {
   "cell_type": "markdown",
   "metadata": {},
   "source": [
    "### Example Setup"
   ]
  },
  {
   "cell_type": "code",
   "execution_count": null,
   "metadata": {},
   "outputs": [],
   "source": [
    "# Basic imports\n",
    "import SBstoat\n",
    "%matplotlib inline"
   ]
  },
  {
   "cell_type": "markdown",
   "metadata": {},
   "source": [
    "Let's first define our model. This is a five-step pathway with five unknown parameters, k1 to k6\n",
    "\n"
   ]
  },
  {
   "cell_type": "code",
   "execution_count": null,
   "metadata": {},
   "outputs": [],
   "source": [
    "# Model of a linear pathway\n",
    "ANTIMONY_MODEL = \"\"\" \n",
    "# Reactions   \n",
    "    J1: S1 -> S2; k1*S1\n",
    "    J2: S2 -> S3; k2*S2\n",
    "    J3: S3 -> S4; k3*S3\n",
    "    J4: S4 -> S5; k4*S4\n",
    "    J5: S5 -> S6; k5*S5;\n",
    "# Species initializations\n",
    "    S1 = 10;\n",
    "    S2 = 0;\n",
    "    S3 = 0;\n",
    "    S4 = 0;\n",
    "    S5 = 0;\n",
    "    S6 = 0;\n",
    "    k1 = 1;\n",
    "    k2 = 2;\n",
    "    k3 = 3;\n",
    "    k4 = 4;\n",
    "    k5 = 5;\n",
    "\"\"\""
   ]
  },
  {
   "cell_type": "markdown",
   "metadata": {},
   "source": [
    "### Simple fit"
   ]
  },
  {
   "cell_type": "markdown",
   "metadata": {},
   "source": [
    "Next we actually fit the model to some data. This just requies two lines:\n",
    "\n",
    "1. Create the fitting object: This requires the model (antimony or roadrunner), the data to fit the model and what parameters you want to fit.\n",
    "2. The second line causes the fitting to take place.\n",
    "\n",
    "The data file is just a normal CSV file, where the first column is time and the remaining columns are what ever you have measured.\n",
    "In this case the data file has all five-step species recorded in time, hence it has one column for utime and six columns for the siz species.\n",
    "\n",
    "By default, the fitter will use all the data it finds in the data file unless specified otherwise.\n"
   ]
  },
  {
   "cell_type": "code",
   "execution_count": null,
   "metadata": {},
   "outputs": [],
   "source": [
    "# Fit parameters to ts1\n",
    "fitter = SBstoat.ModelFitter(ANTIMONY_MODEL, \"tst_data.txt\", [\"k1\", \"k2\", \"k3\", \"k4\", \"k5\"])\n",
    "fitter.fitModel()"
   ]
  },
  {
   "cell_type": "markdown",
   "metadata": {},
   "source": [
    "If the fit was successful (no error is reported),\n",
    "you can ask the fitter for information on what the results were using the reportFit call:\n"
   ]
  },
  {
   "cell_type": "code",
   "execution_count": null,
   "metadata": {},
   "outputs": [],
   "source": [
    "# Provide fit details\n",
    "print(fitter.reportFit())"
   ]
  },
  {
   "cell_type": "markdown",
   "metadata": {},
   "source": [
    "### Controlling Optimization Methods"
   ]
  },
  {
   "cell_type": "markdown",
   "metadata": {},
   "source": [
    "More advanced users may want control over the optimizer method used to do the fit as well as the parameters passed to these methods. Below is an example for the ``differential_evolution`` method."
   ]
  },
  {
   "cell_type": "code",
   "execution_count": null,
   "metadata": {},
   "outputs": [],
   "source": [
    "optimizerMethod = SBstoat.OptimizerMethod(\n",
    "    method=\"differential_evolution\",\n",
    "    kwargs={ \"popsize\": 10000, \"atol\": 0.001})\n",
    "fitter = SBstoat.ModelFitter(ANTIMONY_MODEL, \"tst_data.txt\", [\"k1\", \"k2\", \"k3\", \"k4\", \"k5\"], fitterMethods=[optimizerMethod])\n",
    "fitter.fitModel()\n",
    "print(fitter.reportFit())"
   ]
  },
  {
   "cell_type": "code",
   "execution_count": null,
   "metadata": {},
   "outputs": [],
   "source": [
    "# Plot the fitl\n",
    "fitter = SBstoat.ModelFitter(ANTIMONY_MODEL, \"tst_data.txt\", [\"k1\", \"k2\", \"k3\", \"k4\", \"k5\"], fitterMethods=[\"leastsq\"],\n",
    "                            bootstrapMethods=[\"leastsq\"])\n",
    "fitter.fitModel()\n",
    "fitter.plotFitAll(numRow=2, numCol=3)"
   ]
  },
  {
   "cell_type": "markdown",
   "metadata": {},
   "source": [
    "Note that ``fitterMethods`` is a list. This is so that you can specify a sequence of optimization methods so that the parameter fits of the $n$-th method are used as input to the $n+1$-st method."
   ]
  },
  {
   "cell_type": "markdown",
   "metadata": {},
   "source": [
    "### Random Restarts"
   ]
  },
  {
   "cell_type": "markdown",
   "metadata": {},
   "source": [
    "Yet another option available is ``numRestart``. This is the number of times that a fitting method is restarted with the initial value of each parameter chosen from a uniform distribution over the range of the parameter value. ``SBstoat`` saves the parameter values that best fit the observed data."
   ]
  },
  {
   "cell_type": "code",
   "execution_count": null,
   "metadata": {},
   "outputs": [],
   "source": [
    "for numRestart in [0, 10]:\n",
    "    print(\"\\n numRestart: %d\" % numRestart)\n",
    "    fitter = SBstoat.ModelFitter(ANTIMONY_MODEL, \"tst_data.txt\", \n",
    "                                 parametersToFit=[\"k1\", \"k2\", \"k3\", \"k4\", \"k5\"], \n",
    "                                 fitterMethods=[\"leastsq\"],\n",
    "                                 numRestart=numRestart)\n",
    "    fitter.fitModel()\n",
    "    print(fitter.reportFit())"
   ]
  },
  {
   "cell_type": "markdown",
   "metadata": {},
   "source": [
    "Note that using ``numRestart=10`` results in a much lower value for chi-square, and better estimates of the parameters."
   ]
  },
  {
   "cell_type": "markdown",
   "metadata": {},
   "source": [
    "### Controlling Parameter Ranges"
   ]
  },
  {
   "cell_type": "markdown",
   "metadata": {},
   "source": [
    "Another consideration is the bounds used for fitting parameters. These can be specified explicitly by using the ``SBstoat`` ``Parameter`` class."
   ]
  },
  {
   "cell_type": "code",
   "execution_count": null,
   "metadata": {},
   "outputs": [],
   "source": [
    "k1Parameter = SBstoat.Parameter(\"k1\", lower=0, upper=2, value=0.5)\n",
    "fitter = SBstoat.ModelFitter(ANTIMONY_MODEL, \"tst_data.txt\", [k1Parameter, \"k2\", \"k3\", \"k4\", \"k5\"])\n",
    "fitter.fitModel()\n",
    "print(fitter.reportFit())"
   ]
  },
  {
   "cell_type": "markdown",
   "metadata": {},
   "source": [
    "### Plots"
   ]
  },
  {
   "cell_type": "code",
   "execution_count": null,
   "metadata": {},
   "outputs": [],
   "source": [
    "?fitter.plotFitAll"
   ]
  },
  {
   "cell_type": "code",
   "execution_count": null,
   "metadata": {},
   "outputs": [],
   "source": [
    "# Plot residuals\n",
    "fitter.plotResiduals(numRow=2, numCol=3)"
   ]
  },
  {
   "cell_type": "code",
   "execution_count": null,
   "metadata": {},
   "outputs": [],
   "source": [
    "# Many residuals plots are available.\n",
    "fitter.plotResidualsAll(numCol=3, titleFontsize=8)"
   ]
  },
  {
   "cell_type": "markdown",
   "metadata": {},
   "source": [
    "### Cross Validation"
   ]
  },
  {
   "cell_type": "markdown",
   "metadata": {},
   "source": [
    "You can obtain parameter estimates using cross validation. Folds are constructed by alternating time intervals.\n",
    "That is, if the times are 1, 2, 3, 4 and there are two folds, then the first fold is [1, 3] and the second\n",
    "fold is [2, 4]. The properties parameterDF and scoreDF provide information about the parameters and the score ($R^2$)\n",
    "for each fold."
   ]
  },
  {
   "cell_type": "code",
   "execution_count": null,
   "metadata": {},
   "outputs": [],
   "source": [
    "fitter.crossValidate(3)\n",
    "fitter.parameterDF"
   ]
  },
  {
   "cell_type": "code",
   "execution_count": null,
   "metadata": {},
   "outputs": [],
   "source": [
    "# Show the R-square values for each fold\n",
    "fitter.scoreDF"
   ]
  },
  {
   "cell_type": "markdown",
   "metadata": {},
   "source": [
    "### Bootstrapping"
   ]
  },
  {
   "cell_type": "code",
   "execution_count": null,
   "metadata": {},
   "outputs": [],
   "source": [
    "# Get estimates of parameter variance by using bootstrapping\n",
    "fitter = SBstoat.ModelFitter(ANTIMONY_MODEL, \"tst_data.txt\", [\"k1\", \"k2\", \"k3\", \"k4\", \"k5\"], fitterMethods=[\"leastsq\"],\n",
    "                            bootstrapMethods=[\"leastsq\"])\n",
    "fitter.bootstrap(numIteration=2000)"
   ]
  },
  {
   "cell_type": "code",
   "execution_count": null,
   "metadata": {},
   "outputs": [],
   "source": [
    "print(fitter.getParameterStds())"
   ]
  },
  {
   "cell_type": "code",
   "execution_count": null,
   "metadata": {},
   "outputs": [],
   "source": [
    "print(fitter._checkFit())"
   ]
  },
  {
   "cell_type": "code",
   "execution_count": null,
   "metadata": {},
   "outputs": [],
   "source": [
    "# Look at the distribution of the parameter fits.\n",
    "fitter.plotParameterHistograms(figsize=(10,8), ylim=[0, 3], xlim=[0, 6], bins=50, titlePosition=[.5,1])"
   ]
  },
  {
   "cell_type": "code",
   "execution_count": null,
   "metadata": {},
   "outputs": [],
   "source": [
    "# Look at interactions between parameter estimates\n",
    "fitter.plotParameterEstimatePairs(figsize=(10,8), ylim=[0, 10], xlim=[0, 10], markersize=2)"
   ]
  },
  {
   "cell_type": "code",
   "execution_count": null,
   "metadata": {},
   "outputs": [],
   "source": [
    "fitter.reportBootstrap()"
   ]
  },
  {
   "cell_type": "markdown",
   "metadata": {},
   "source": [
    "## Suites of Models"
   ]
  },
  {
   "cell_type": "markdown",
   "metadata": {},
   "source": [
    "A suite of models is a collection of model variants with overlapping parameters.\n",
    "Typically, the model variants arise because of different experimental conditions, such as gene knock-outs\n",
    "and changes in initial conditions (e.g., concentrations of external chemical species).\n",
    "Fitting parameters for a suite of models means finding *one* set of parameter values that work well\n",
    "for *all* of the models in the suite.\n",
    "\n",
    "Consider the pathway $X0 \\rightarrow S1 \\rightarrow S2 \\rightarrow S3 \\rightarrow S4 \\rightarrow X1$, where $X0, X1$ have fixed concentrations.\n",
    "Suppose that two experiments are conducted for different parts of this pathway.\n",
    "The first model is for $X0 \\rightarrow S1 \\rightarrow S2 \\rightarrow S3$,\n",
    "and the second is for $S2 \\rightarrow S3 \\rightarrow S4 \\rightarrow X1$,\n",
    "The kinetic constants for the first pathway are $k_1, k_2, k_3$,\n",
    "and for the second $k_3, k_4, k_5$.\n",
    "So, by *simultaneously* fitting both models, we need to find a value for $k_3$ that works for both models."
   ]
  },
  {
   "cell_type": "code",
   "execution_count": null,
   "metadata": {},
   "outputs": [],
   "source": [
    "from SBstoat.observationSynthesizer import ObservationSynthesizerRandomErrors\n",
    "from SBstoat.namedTimeseries import NamedTimeseries\n",
    "from SBstoat.suiteFitter import SuiteFitter\n",
    "\n",
    "import tellurium as te"
   ]
  },
  {
   "cell_type": "code",
   "execution_count": null,
   "metadata": {},
   "outputs": [],
   "source": [
    "# Model of a linear pathway\n",
    "MODEL1 = \"\"\" \n",
    "# Reactions\n",
    "    J1: $X0 -> S1; k1*$X0\n",
    "    J2: S1 -> S2; k2*S1\n",
    "    J3: S2 -> $S3; k3*S2\n",
    "# Species initializations\n",
    "    X0 = 10;\n",
    "    S1 = 0;\n",
    "    S2 = 0;\n",
    "    S3 = X0\n",
    "    k1 = 1;\n",
    "    k2 = 2;\n",
    "    k3 = 3;\n",
    "\"\"\"\n",
    "PARAMETERS1 = [\"k1\", \"k2\", \"k3\"]\n",
    "rr = te.loada(MODEL1)\n",
    "model1Arr = rr.simulate()\n",
    "rr.plot(model1Arr)"
   ]
  },
  {
   "cell_type": "code",
   "execution_count": null,
   "metadata": {},
   "outputs": [],
   "source": [
    "# Model of a linear pathway\n",
    "MODEL2 = \"\"\" \n",
    "# Reactions\n",
    "    J1: $S2 -> S3; k3*$S2\n",
    "    J2: S3 -> S4; k4*S3\n",
    "    J3: S4 -> $X1; k5*S4\n",
    "# Species initializations\n",
    "    S2 = 10;\n",
    "    S3 = 0;\n",
    "    S4 = 0;\n",
    "    X1 = S2;\n",
    "    k3 = 3;\n",
    "    k4 = 4;\n",
    "    k5 = 5;\n",
    "\"\"\"\n",
    "PARAMETERS2 = [\"k3\", \"k4\", \"k5\"]\n",
    "rr = te.loada(MODEL2)\n",
    "data = rr.simulate()\n",
    "rr.plot(data)"
   ]
  },
  {
   "cell_type": "markdown",
   "metadata": {},
   "source": [
    "To illustrate fitting suites of models, we create synthetic observational data based on the true model.\n",
    "There are two synthetic data sets, one for each of the experiments described above."
   ]
  },
  {
   "cell_type": "code",
   "execution_count": null,
   "metadata": {},
   "outputs": [],
   "source": [
    "def mkSyntheticData(model, std=0.3):\n",
    "    \"\"\"\n",
    "    Creates synthetic observations for a model by adding a normally distributed random variable with zero mean.\n",
    "    \n",
    "    Parameters\n",
    "    ----------\n",
    "    model: str\n",
    "        Antimony model\n",
    "    std: float\n",
    "        Standard deviation of the random error\n",
    "        \n",
    "    Returns\n",
    "    -------\n",
    "        NamedTimeseries\n",
    "    \"\"\"\n",
    "    rr = te.loada(model)\n",
    "    dataArr = rr.simulate()\n",
    "    fittedTS = NamedTimeseries(namedArray=dataArr)\n",
    "    synthesizer = ObservationSynthesizerRandomErrors(fittedTS=fittedTS, std=std)\n",
    "    return synthesizer.calculate()"
   ]
  },
  {
   "cell_type": "code",
   "execution_count": null,
   "metadata": {},
   "outputs": [],
   "source": [
    "data1TS = mkSyntheticData(MODEL1)\n",
    "data2TS = mkSyntheticData(MODEL2)"
   ]
  },
  {
   "cell_type": "markdown",
   "metadata": {},
   "source": [
    "Constructing a ``SuiteFitter`` is analogous to what is done for a ``ModelFitter``. To construct a ``ModelFitter``, there is a single model, a single data set, and a single collection of parameters to fit.\n",
    "To construct a ``SuiteFitter``, there is a list of models, a list of data sets, and a list of parameters to fit. The $i$th item in each list is used to construct a separate ``ModelFitter``.\n",
    "Parameters\n",
    "are fit so that the same parameter in different fitters has the same value assigned."
   ]
  },
  {
   "cell_type": "code",
   "execution_count": null,
   "metadata": {},
   "outputs": [],
   "source": [
    "# Fit the model suite\n",
    "suiteFitter = SuiteFitter([MODEL1, MODEL2], [data1TS, data2TS], [PARAMETERS1, PARAMETERS2],\n",
    "                         modelNames=[\"Model1\", \"Model2\"], fitterMethods=[\"differential_evolution\"])\n",
    "suiteFitter.fitSuite()"
   ]
  },
  {
   "cell_type": "markdown",
   "metadata": {},
   "source": [
    "Use ``reportFit`` to see the results of the fit."
   ]
  },
  {
   "cell_type": "code",
   "execution_count": null,
   "metadata": {},
   "outputs": [],
   "source": [
    "print(suiteFitter.reportFit())"
   ]
  },
  {
   "cell_type": "markdown",
   "metadata": {},
   "source": [
    "To see the quality of fits for each model, use ``plotFitAll``."
   ]
  },
  {
   "cell_type": "code",
   "execution_count": null,
   "metadata": {},
   "outputs": [],
   "source": [
    "suiteFitter.plotFitAll(titlePosition=(1.1, 0.5))"
   ]
  },
  {
   "cell_type": "markdown",
   "metadata": {},
   "source": [
    "It is sometimes useful to see how each model contributes to the residual sum of squares since it may be more difficult to fit some models."
   ]
  },
  {
   "cell_type": "code",
   "execution_count": null,
   "metadata": {},
   "outputs": [],
   "source": [
    "suiteFitter.plotResidualsSSQ()"
   ]
  },
  {
   "cell_type": "markdown",
   "metadata": {},
   "source": [
    "You can also do cross validation for a suite of models."
   ]
  },
  {
   "cell_type": "code",
   "execution_count": 1,
   "metadata": {},
   "outputs": [
    {
     "ename": "NameError",
     "evalue": "name 'suiteFitter' is not defined",
     "output_type": "error",
     "traceback": [
      "\u001b[0;31m---------------------------------------------------------------------------\u001b[0m",
      "\u001b[0;31mNameError\u001b[0m                                 Traceback (most recent call last)",
      "\u001b[0;32m<ipython-input-1-98eaf55ea9d0>\u001b[0m in \u001b[0;36m<module>\u001b[0;34m\u001b[0m\n\u001b[1;32m      1\u001b[0m \u001b[0;31m# FIXME: Missing S1. Works w/o cross validation. Somehow losing a column?\u001b[0m\u001b[0;34m\u001b[0m\u001b[0;34m\u001b[0m\u001b[0;34m\u001b[0m\u001b[0m\n\u001b[1;32m      2\u001b[0m \u001b[0mnumFold\u001b[0m \u001b[0;34m=\u001b[0m \u001b[0;36m10\u001b[0m\u001b[0;34m\u001b[0m\u001b[0;34m\u001b[0m\u001b[0m\n\u001b[0;32m----> 3\u001b[0;31m \u001b[0msuiteFitter\u001b[0m\u001b[0;34m.\u001b[0m\u001b[0mcrossValidate\u001b[0m\u001b[0;34m(\u001b[0m\u001b[0mnumFold\u001b[0m\u001b[0;34m,\u001b[0m \u001b[0misParallel\u001b[0m\u001b[0;34m=\u001b[0m\u001b[0;32mFalse\u001b[0m\u001b[0;34m)\u001b[0m\u001b[0;34m\u001b[0m\u001b[0;34m\u001b[0m\u001b[0m\n\u001b[0m\u001b[1;32m      4\u001b[0m \u001b[0mprint\u001b[0m\u001b[0;34m(\u001b[0m\u001b[0msuiteFitter\u001b[0m\u001b[0;34m.\u001b[0m\u001b[0mscoreDF\u001b[0m\u001b[0;34m)\u001b[0m  \u001b[0;31m# R^2 value for each fold\u001b[0m\u001b[0;34m\u001b[0m\u001b[0;34m\u001b[0m\u001b[0m\n\u001b[1;32m      5\u001b[0m \u001b[0mprint\u001b[0m\u001b[0;34m(\u001b[0m\u001b[0msuiteFitter\u001b[0m\u001b[0;34m.\u001b[0m\u001b[0mparameterDF\u001b[0m\u001b[0;34m)\u001b[0m  \u001b[0;31m# Parameter estimates aggregated across folds\u001b[0m\u001b[0;34m\u001b[0m\u001b[0;34m\u001b[0m\u001b[0m\n",
      "\u001b[0;31mNameError\u001b[0m: name 'suiteFitter' is not defined"
     ]
    }
   ],
   "source": [
    "# FIXME: Missing S1. Works w/o cross validation. Somehow losing a column?\n",
    "numFold = 10\n",
    "suiteFitter.crossValidate(numFold, isParallel=False)\n",
    "print(suiteFitter.scoreDF)  # R^2 value for each fold\n",
    "print(suiteFitter.parameterDF)  # Parameter estimates aggregated across folds"
   ]
  },
  {
   "cell_type": "markdown",
   "metadata": {},
   "source": [
    "## Manipulating Tabular Data\n",
    "Tables are a great way to describe data. Tables are a collection of values organized into rows and columns. Typically, the columns have names. Common operations on tables are:\n",
    "\n",
    "- Create a table from a file\n",
    "- Create a new table from a subset of rows and/or columns\n",
    "- Create new columns and/rows by performing addition, subtaction, and other operations on table rows and columns.\n",
    "\n",
    "Many systems provide table representations. Spreadsheets are widely used. In the R language, a dataframe is a table. In python, the pandas package provides a python version of dataframes.\n",
    "\n",
    "Pandas is very powerful, but it is slow. numpy provides arrays and matrices, but these lack the convenience of column names. In addition, the variables we analyze are collected at the same timepoints, and so it's important to associate these timepoints with the variable values.\n",
    "\n",
    "``NamedTimeseries`` is a thin layer on top of numpy ``ndarray`` that provides an efficient table abstraction. Efficiency is a particular concern for model fitting since fitting can be very numerically intensive."
   ]
  },
  {
   "cell_type": "code",
   "execution_count": null,
   "metadata": {},
   "outputs": [],
   "source": [
    "# Import the modules needed.\n",
    "import numpy as np\n",
    "TIME = SBstoat.TIME"
   ]
  },
  {
   "cell_type": "markdown",
   "metadata": {},
   "source": [
    "Let's start by creating a ``NamedTimeseries`` from the file ``tst_data.txt``. In python, an object is created from a constructor that is the class name followed by arguments. There are several constructors for ``NamedTimeseries``."
   ]
  },
  {
   "cell_type": "code",
   "execution_count": null,
   "metadata": {},
   "outputs": [],
   "source": [
    "ts1 = SBstoat.NamedTimeseries(csvPath=\"tst_data.txt\")  # Construct from a file\n",
    "print(ts1)"
   ]
  },
  {
   "cell_type": "markdown",
   "metadata": {},
   "source": [
    "There are 7 columns (including \"time\") and 30 rows. All ``NamedTimeseries`` have a \"time\" column. In fact, the python variable ``TIME`` can be used to reference this column."
   ]
  },
  {
   "cell_type": "markdown",
   "metadata": {},
   "source": [
    "We reference rows by their \"index\", their count from 0. In fact, we can make a new ``NamedTimeseries`` that consists of a subset of the rows."
   ]
  },
  {
   "cell_type": "code",
   "execution_count": null,
   "metadata": {},
   "outputs": [],
   "source": [
    "# Get the first row\n",
    "print(ts1[1])"
   ]
  },
  {
   "cell_type": "code",
   "execution_count": null,
   "metadata": {},
   "outputs": [],
   "source": [
    "# Get rows 1, 3, 5\n",
    "print(ts1[[1, 3, 5]])"
   ]
  },
  {
   "cell_type": "code",
   "execution_count": null,
   "metadata": {},
   "outputs": [],
   "source": [
    "# Get rows 1 through 5\n",
    "# This is a slice; you specify the first row you want and where the slice stops\n",
    "ts2 = ts1[1:6]\n",
    "print(ts2)"
   ]
  },
  {
   "cell_type": "markdown",
   "metadata": {},
   "source": [
    "We can also select columns. A column select produces a ``numpy`` ``ndarray``, not at ``NamedArray``. This is done so that we can manipulate column selections using the powerful numpy facilities."
   ]
  },
  {
   "cell_type": "code",
   "execution_count": null,
   "metadata": {},
   "outputs": [],
   "source": [
    "ts2[\"S1\"]  # Column S1 in ts2"
   ]
  },
  {
   "cell_type": "markdown",
   "metadata": {},
   "source": [
    "To get the numpy array for a list of columns, we give the list."
   ]
  },
  {
   "cell_type": "code",
   "execution_count": null,
   "metadata": {},
   "outputs": [],
   "source": [
    "ts2[[\"S1\", \"S2\"]]"
   ]
  },
  {
   "cell_type": "markdown",
   "metadata": {},
   "source": [
    "To get a **new timeseries** that just has \"S1\", you use ``subsetColumns``."
   ]
  },
  {
   "cell_type": "code",
   "execution_count": null,
   "metadata": {},
   "outputs": [],
   "source": [
    "ts2a = ts2.subsetColumns(\"S1\")\n",
    "print(ts2a)"
   ]
  },
  {
   "cell_type": "code",
   "execution_count": null,
   "metadata": {},
   "outputs": [],
   "source": [
    "# Create a timeseries from ts2 with just S1, S2\n",
    "print(ts2.subsetColumns([\"S1\", \"S2\"]))"
   ]
  },
  {
   "cell_type": "markdown",
   "metadata": {},
   "source": [
    "We can add columns to the timeseries. Here, we add a column with a constant value of 1."
   ]
  },
  {
   "cell_type": "code",
   "execution_count": null,
   "metadata": {},
   "outputs": [],
   "source": [
    "ts2[\"constant_1\"] = 1\n",
    "print(ts2)"
   ]
  },
  {
   "cell_type": "markdown",
   "metadata": {},
   "source": [
    "We can also do calculations and create new columns with the results."
   ]
  },
  {
   "cell_type": "code",
   "execution_count": null,
   "metadata": {},
   "outputs": [],
   "source": [
    "ts2[\"New_Calculation\"] = ts2[\"S1\"] + np.multiply(ts2[\"S2\"], ts2[TIME])\n",
    "ts2[\"Other_Calculation\"] = ts2[\"S1\"] + 10*np.multiply(ts2[\"S2\"], ts2[TIME])\n",
    "print(ts2)"
   ]
  },
  {
   "cell_type": "code",
   "execution_count": null,
   "metadata": {},
   "outputs": [],
   "source": [
    "# Let's get rid of Other_Calculation\n",
    "del ts2[\"Other_Calculation\"]\n",
    "print(ts2)"
   ]
  },
  {
   "cell_type": "markdown",
   "metadata": {},
   "source": [
    "We can combine the rows and columns of a ``NamedTimeseries`` to make a new ``NamedTimeseries``."
   ]
  },
  {
   "cell_type": "code",
   "execution_count": null,
   "metadata": {},
   "outputs": [],
   "source": [
    "ts3 = ts2.subsetColumns([\"S1\", \"S2\"])\n",
    "ts4 = ts2.subsetColumns(\"S3\")\n",
    "ts5 = ts2.subsetColumns(\"New_Calculation\")\n",
    "ts6 = ts3.concatenateColumns([ts4, ts5])  # Has S1, S2, S3, New_Calculation\"\n",
    "print(ts6)"
   ]
  },
  {
   "cell_type": "code",
   "execution_count": null,
   "metadata": {},
   "outputs": [],
   "source": [
    "ts7 = ts1[:2]\n",
    "ts8 = ts1[2:4]\n",
    "ts9 = ts1[4:6]\n",
    "ts10 = ts7.concatenateRows([ts8, ts9])  # First 6 rows of ts1\n",
    "print(ts10)"
   ]
  },
  {
   "cell_type": "code",
   "execution_count": null,
   "metadata": {},
   "outputs": [],
   "source": [
    "# Save the result in a file\n",
    "ts2.to_csv(\"new_data.csv\")"
   ]
  },
  {
   "cell_type": "code",
   "execution_count": null,
   "metadata": {},
   "outputs": [],
   "source": [
    "# To see the file, we run a command in the operating system shell. The following works in Unix and Mac.\n",
    "!cat new_data.csv"
   ]
  },
  {
   "cell_type": "markdown",
   "metadata": {},
   "source": [
    "## Plotting In Depth\n",
    "We provide 4 types of plots with user controllable options for the plots. The plots are:\n",
    "\n",
    "1. Plot all variables of one table on a single plot.\n",
    "1. Plot all variables of one table in one plot and all variables of second plot\n",
    "1. Plot each variable of a table in a separate plot\n",
    "1.  Plot each variable of two tables in the same plot"
   ]
  },
  {
   "cell_type": "code",
   "execution_count": null,
   "metadata": {},
   "outputs": [],
   "source": [
    "# Create the plotter object\n",
    "plotter = SBstoat.TimeseriesPlotter()"
   ]
  },
  {
   "cell_type": "code",
   "execution_count": null,
   "metadata": {},
   "outputs": [],
   "source": [
    "# To see the plotting options...\n",
    "?plotter.plotHistograms"
   ]
  },
  {
   "cell_type": "code",
   "execution_count": null,
   "metadata": {},
   "outputs": [],
   "source": [
    "# Case 1: Plot all variables of a single table on a single plot\n",
    "plotter.plotTimeMultiple(ts1)\n",
    "plotter.plotTimeMultiple(ts1, timeseries2=ts1, marker=\"o\")"
   ]
  },
  {
   "cell_type": "code",
   "execution_count": null,
   "metadata": {},
   "outputs": [],
   "source": [
    "# We can also plot a subset of the variables in a single plot\n",
    "plotter.plotTimeMultiple(ts1, columns=[\"S1\", \"S6\"])"
   ]
  },
  {
   "cell_type": "code",
   "execution_count": null,
   "metadata": {},
   "outputs": [],
   "source": [
    "# Add to the plot with options\n",
    "plotter.plotTimeMultiple(ts1, columns=[\"S1\", \"S6\"], ylabel=\"concetration\", title=\"Two Variables\")"
   ]
  },
  {
   "cell_type": "code",
   "execution_count": null,
   "metadata": {},
   "outputs": [],
   "source": [
    "# Create a second table for comparisons. We can access all non-time variables using the property colnames.\n",
    "ts4 = ts1.copy()  # Create a copy of the timeseries\n",
    "ts4[ts4.colnames] = 5*np.cos(ts4[ts4.colnames]) + 2*ts4[ts4.colnames]"
   ]
  },
  {
   "cell_type": "code",
   "execution_count": null,
   "metadata": {},
   "outputs": [],
   "source": [
    "# Case 2: Plot two multiple variable plots, side-by-side\n",
    "plotter.plotTimeMultiple(ts1, timeseries2=ts4)"
   ]
  },
  {
   "cell_type": "code",
   "execution_count": null,
   "metadata": {},
   "outputs": [],
   "source": [
    "# Case 3: Separate plot for each variable of a single table\n",
    "plotter.plotTimeSingle(ts1, numRow=2, numCol=3, timeseries2=ts2,\n",
    "                      figsize=(10,8), marker=\"o\")"
   ]
  },
  {
   "cell_type": "code",
   "execution_count": null,
   "metadata": {},
   "outputs": [],
   "source": [
    "# Case 4: Separate plot for each variable for two tables\n",
    "plotter.plotTimeSingle(ts1, timeseries2=ts2, figsize=(10, 8))"
   ]
  },
  {
   "cell_type": "markdown",
   "metadata": {},
   "source": [
    "## Fitting in Depth\n",
    "Kinetics models frequently have unknown constants that need to be estimated. This process of estimation is called model fitting, or just fitting. Fitting involves running multiple simulations with different values of parameters to find values that result in a good match between simulated and measured species concentrations."
   ]
  },
  {
   "cell_type": "code",
   "execution_count": null,
   "metadata": {},
   "outputs": [],
   "source": [
    "ANTIMONY_MODEL = \"\"\" \n",
    "# Reactions   \n",
    "    J1: S1 -> S2; k1*S1\n",
    "    J2: S2 -> S3; k2*S2\n",
    "    J3: S3 -> S4; k3*S3\n",
    "    J4: S4 -> S5; k4*S4\n",
    "    J5: S5 -> S6; k5*S5;\n",
    "# Species initializations\n",
    "    S1 = 10;\n",
    "    S2 = 0;\n",
    "    S3 = 0;\n",
    "    S4 = 0;\n",
    "    S5 = 0;\n",
    "    S6 = 0;\n",
    "    k1 = 1;\n",
    "    k2 = 2;\n",
    "    k3 = 3;\n",
    "    k4 = 4;\n",
    "    k5 = 5;\n",
    "\"\"\""
   ]
  },
  {
   "cell_type": "markdown",
   "metadata": {},
   "source": [
    "This model has the parameters ``k1, k2, k3, k4, k5``, the kinetics constants for their respective reactions. In this case, we know the true value of the parameters, which are specified at the bottom of the model. This knowledge provides a way to explore the effectiveness of model fitting.\n",
    "\n",
    "This model is a linear pathway where mass moves from species ``S1`` to ``S6`` over time. The rate at which this happens depends on the kinetics constants.\n",
    "\n",
    "Let's see how well we can fit this model to the ``ts1`` data described in the first section."
   ]
  },
  {
   "cell_type": "code",
   "execution_count": null,
   "metadata": {},
   "outputs": [],
   "source": [
    "print(ts1)"
   ]
  },
  {
   "cell_type": "markdown",
   "metadata": {},
   "source": [
    "The fitting data has values for each of the six floating species. Model fitting works iteratively varying the values of the parameters, simulating the model with these parameters, and then evaluating how close the simulation is to the fitting data.\n",
    "\n",
    "So, to do a fit, we must specify:\n",
    "\n",
    "1. The model to fit\n",
    "1. The fitting data\n",
    "1. The parameters to estimate\n",
    "\n",
    "To elaborate on point (3), often models contain some parameters whose values are known and others that aren't.\n",
    "\n",
    "The class ``ModelFitter`` is used to do fitting. The constructor must specify all 3 items above. If parameters is None, then no fitting is done."
   ]
  },
  {
   "cell_type": "code",
   "execution_count": null,
   "metadata": {},
   "outputs": [],
   "source": [
    "# Run the model using the parameter values in the model. There is no fitting.\n",
    "base_fitter = SBstoat.ModelFitter(ANTIMONY_MODEL, ts1, parametersToFit=None)"
   ]
  },
  {
   "cell_type": "markdown",
   "metadata": {},
   "source": [
    "There are other options as well, such as choosing a subset of columns for the fit."
   ]
  },
  {
   "cell_type": "code",
   "execution_count": null,
   "metadata": {},
   "outputs": [],
   "source": [
    "# Fit parameters to ts1\n",
    "fitter = SBstoat.ModelFitter(ANTIMONY_MODEL, \"tst_data.txt\", [\"k1\", \"k2\", \"k3\", \"k4\", \"k5\"], selectedColumns=[\"S1\", \"S2\"])"
   ]
  },
  {
   "cell_type": "code",
   "execution_count": null,
   "metadata": {},
   "outputs": [],
   "source": [
    "# Fit parameters to ts1 S1, S2\n",
    "fitter = SBstoat.ModelFitter(ANTIMONY_MODEL, \"tst_data.txt\", [\"k1\", \"k2\", \"k3\", \"k4\", \"k5\"])\n",
    "fitter.fitModel()"
   ]
  },
  {
   "cell_type": "markdown",
   "metadata": {},
   "source": [
    "To fit a model, we use the ``fitModel`` method. We can then see the optimized residual variance and the values of the model parameters."
   ]
  },
  {
   "cell_type": "code",
   "execution_count": null,
   "metadata": {},
   "outputs": [],
   "source": [
    "base_fitter.fitModel()"
   ]
  },
  {
   "cell_type": "code",
   "execution_count": null,
   "metadata": {},
   "outputs": [],
   "source": [
    "# The model without fitting any parameters\n",
    "ts_base = SBstoat.NamedTimeseries(namedArray=base_fitter.roadrunnerModel.simulate(0, 4, 30))\n",
    "plotter.plotTimeSingle(ts_base, numRow=2)"
   ]
  },
  {
   "cell_type": "markdown",
   "metadata": {},
   "source": [
    "This is a bit crowded for detailed comparisons. So, we make comparisons between each variable."
   ]
  },
  {
   "cell_type": "markdown",
   "metadata": {},
   "source": [
    "In our running example, the values of parameters in the original model are their true value. Ideally, we want to achieve a variance close to this. We create a new fitter object since we still want to have access to the unchanged model that we started with."
   ]
  },
  {
   "cell_type": "code",
   "execution_count": null,
   "metadata": {},
   "outputs": [],
   "source": [
    "parameterNames = [\"k%d\" % i for i in range(1, 6)]\n",
    "fitter = SBstoat.ModelFitter(ANTIMONY_MODEL, ts1, parameterNames)\n",
    "fitter.fitModel()\n",
    "print(\"residual variance of the fitted model: %3.2f\" % np.var(fitter.residualsTS.flatten()))\n",
    "print(\"Values of fitted parameters: %s\" % str(fitter.getParameterMeans()))"
   ]
  },
  {
   "cell_type": "markdown",
   "metadata": {},
   "source": [
    "Now let's compare the fitted model with the data."
   ]
  },
  {
   "cell_type": "code",
   "execution_count": null,
   "metadata": {},
   "outputs": [],
   "source": [
    "fittedModel = fitter.roadrunnerModel\n",
    "fittedModel.reset()\n",
    "fittedTS = SBstoat.NamedTimeseries(namedArray=fittedModel.simulate(ts1.start, ts1.end, len(ts1)))\n",
    "plotter.plotTimeMultiple(ts1, timeseries2=fittedTS, marker=\"o\")"
   ]
  },
  {
   "cell_type": "code",
   "execution_count": null,
   "metadata": {},
   "outputs": [],
   "source": [
    "plotter.plotTimeSingle(ts1, timeseries2=fittedTS, numRow=2, numCol=3, figsize=(12, 10), marker=\"o\")"
   ]
  },
  {
   "cell_type": "code",
   "execution_count": null,
   "metadata": {},
   "outputs": [],
   "source": [
    "# Plot pairs of values\n",
    "plotter.plotValuePairs(fittedTS, pairs=[(\"S1\", \"S2\"), (\"S1\", \"S6\"), (\"S2\", \"S3\")], numCol=2)"
   ]
  },
  {
   "cell_type": "code",
   "execution_count": null,
   "metadata": {},
   "outputs": [],
   "source": [
    "fitter.plotFitAll(numCol=2, numRow=1)"
   ]
  },
  {
   "cell_type": "code",
   "execution_count": null,
   "metadata": {},
   "outputs": [],
   "source": [
    "fitter.plotFitAll(numRow=2, numCol=2, figsize=(12, 10), color=[\"red\", \"blue\"], alpha=[1.0, 0.3],\n",
    "                 markersize=3)"
   ]
  },
  {
   "cell_type": "markdown",
   "metadata": {},
   "source": [
    "Sometimes, the observed values are in different units than what is produced by the simulation. So, fitted values must be transformed.\n",
    "This is done by specifying fittedDataTransformationDct, a dictionary of functions for transformming fitted values."
   ]
  }
 ],
 "metadata": {
  "kernelspec": {
   "display_name": "Python 3",
   "language": "python",
   "name": "python3"
  },
  "language_info": {
   "codemirror_mode": {
    "name": "ipython",
    "version": 3
   },
   "file_extension": ".py",
   "mimetype": "text/x-python",
   "name": "python",
   "nbconvert_exporter": "python",
   "pygments_lexer": "ipython3",
   "version": "3.6.9"
  }
 },
 "nbformat": 4,
 "nbformat_minor": 4
}
